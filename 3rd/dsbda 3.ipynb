{
 "cells": [
  {
   "cell_type": "code",
   "execution_count": 1,
   "id": "357e744d-85cf-4394-9e6e-0eea8f3c8174",
   "metadata": {},
   "outputs": [
    {
     "name": "stdout",
     "output_type": "stream",
     "text": [
      "           count          mean          std      min      25%      50%  \\\n",
      "age_group                                                                \n",
      "21-30        3.0  52333.333333  8736.894948  45000.0  47500.0  50000.0   \n",
      "31-40        3.0  65000.000000  5000.000000  60000.0  62500.0  65000.0   \n",
      "41-50        1.0  75000.000000          NaN  75000.0  75000.0  75000.0   \n",
      "51-60        3.0  86666.666667  2886.751346  85000.0  85000.0  85000.0   \n",
      "\n",
      "               75%      max  \n",
      "age_group                    \n",
      "21-30      56000.0  62000.0  \n",
      "31-40      67500.0  70000.0  \n",
      "41-50      75000.0  75000.0  \n",
      "51-60      87500.0  90000.0  \n"
     ]
    }
   ],
   "source": [
    "import pandas as pd\n",
    "data = {\n",
    "    'age': [25, 31, 25, 40, 55, 60, 33, 28, 45, 57],\n",
    "    'income': [50000, 60000, 45000, 70000, 85000, 90000, 65000, 62000, 75000, 85000],\n",
    "    'age_group': ['21-30', '31-40', '21-30', '31-40', '51-60', '51-60', '31-40', '21-30', '41-50', '51-60']\n",
    "}\n",
    "\n",
    "df= pd.DataFrame(data)\n",
    "\n",
    "#stats\n",
    "stats = df.groupby('age_group')['income'].describe()\n",
    "print(stats)"
   ]
  },
  {
   "cell_type": "code",
   "execution_count": 4,
   "id": "bd1307e4-b92f-46d5-b7c1-62b7ed247842",
   "metadata": {},
   "outputs": [
    {
     "name": "stdout",
     "output_type": "stream",
     "text": [
      "Median: \n",
      "age_group\n",
      "21-30    50000.0\n",
      "31-40    65000.0\n",
      "41-50    75000.0\n",
      "51-60    85000.0\n",
      "Name: income, dtype: float64\n"
     ]
    }
   ],
   "source": [
    "data=df.groupby('age_group')['income']\n",
    "\n",
    "print(\"Median: \")\n",
    "print(data.median())\n"
   ]
  },
  {
   "cell_type": "code",
   "execution_count": 5,
   "id": "ac1b3037-04c3-458f-b016-d7ef11b9e4fc",
   "metadata": {},
   "outputs": [
    {
     "name": "stdout",
     "output_type": "stream",
     "text": [
      "Mean\n",
      "age_group\n",
      "21-30    52333.333333\n",
      "31-40    65000.000000\n",
      "41-50    75000.000000\n",
      "51-60    86666.666667\n",
      "Name: income, dtype: float64\n"
     ]
    }
   ],
   "source": [
    "\n",
    "print(\"Mean\")\n",
    "print(data.mean())"
   ]
  },
  {
   "cell_type": "code",
   "execution_count": 6,
   "id": "1eed10d2-6b0e-4ddf-9aba-272ec4886e88",
   "metadata": {},
   "outputs": [
    {
     "name": "stdout",
     "output_type": "stream",
     "text": [
      "mode age:  [25]\n",
      "mode age:  [85000]\n"
     ]
    }
   ],
   "source": [
    "mode_age = df['age'].mode()\n",
    "mode_inc = df['income'].mode()\n",
    "print(\"mode age: \",mode_age.values)\n",
    "print(\"mode age: \",mode_inc.values)"
   ]
  },
  {
   "cell_type": "code",
   "execution_count": 8,
   "id": "f5d824cf-6e51-48b6-8140-994b4866d215",
   "metadata": {},
   "outputs": [
    {
     "data": {
      "text/html": [
       "<div>\n",
       "<style scoped>\n",
       "    .dataframe tbody tr th:only-of-type {\n",
       "        vertical-align: middle;\n",
       "    }\n",
       "\n",
       "    .dataframe tbody tr th {\n",
       "        vertical-align: top;\n",
       "    }\n",
       "\n",
       "    .dataframe thead th {\n",
       "        text-align: right;\n",
       "    }\n",
       "</style>\n",
       "<table border=\"1\" class=\"dataframe\">\n",
       "  <thead>\n",
       "    <tr style=\"text-align: right;\">\n",
       "      <th></th>\n",
       "      <th>Id</th>\n",
       "      <th>SepalLengthCm</th>\n",
       "      <th>SepalWidthCm</th>\n",
       "      <th>PetalLengthCm</th>\n",
       "      <th>PetalWidthCm</th>\n",
       "      <th>Species</th>\n",
       "    </tr>\n",
       "  </thead>\n",
       "  <tbody>\n",
       "    <tr>\n",
       "      <th>0</th>\n",
       "      <td>1</td>\n",
       "      <td>5.1</td>\n",
       "      <td>3.5</td>\n",
       "      <td>1.4</td>\n",
       "      <td>0.2</td>\n",
       "      <td>Iris-setosa</td>\n",
       "    </tr>\n",
       "    <tr>\n",
       "      <th>1</th>\n",
       "      <td>2</td>\n",
       "      <td>4.9</td>\n",
       "      <td>3.0</td>\n",
       "      <td>1.4</td>\n",
       "      <td>0.2</td>\n",
       "      <td>Iris-setosa</td>\n",
       "    </tr>\n",
       "    <tr>\n",
       "      <th>2</th>\n",
       "      <td>3</td>\n",
       "      <td>4.7</td>\n",
       "      <td>3.2</td>\n",
       "      <td>1.3</td>\n",
       "      <td>0.2</td>\n",
       "      <td>Iris-setosa</td>\n",
       "    </tr>\n",
       "    <tr>\n",
       "      <th>3</th>\n",
       "      <td>4</td>\n",
       "      <td>4.6</td>\n",
       "      <td>3.1</td>\n",
       "      <td>1.5</td>\n",
       "      <td>0.2</td>\n",
       "      <td>Iris-setosa</td>\n",
       "    </tr>\n",
       "    <tr>\n",
       "      <th>4</th>\n",
       "      <td>5</td>\n",
       "      <td>5.0</td>\n",
       "      <td>3.6</td>\n",
       "      <td>1.4</td>\n",
       "      <td>0.2</td>\n",
       "      <td>Iris-setosa</td>\n",
       "    </tr>\n",
       "  </tbody>\n",
       "</table>\n",
       "</div>"
      ],
      "text/plain": [
       "   Id  SepalLengthCm  SepalWidthCm  PetalLengthCm  PetalWidthCm      Species\n",
       "0   1            5.1           3.5            1.4           0.2  Iris-setosa\n",
       "1   2            4.9           3.0            1.4           0.2  Iris-setosa\n",
       "2   3            4.7           3.2            1.3           0.2  Iris-setosa\n",
       "3   4            4.6           3.1            1.5           0.2  Iris-setosa\n",
       "4   5            5.0           3.6            1.4           0.2  Iris-setosa"
      ]
     },
     "execution_count": 8,
     "metadata": {},
     "output_type": "execute_result"
    }
   ],
   "source": [
    "import pandas as pd\n",
    "\n",
    "df=pd.read_csv(\"Iris.csv\")\n",
    "df.head()"
   ]
  },
  {
   "cell_type": "code",
   "execution_count": 9,
   "id": "397296d0-c2e2-444f-beae-d973a2ca0319",
   "metadata": {},
   "outputs": [
    {
     "name": "stdout",
     "output_type": "stream",
     "text": [
      "                   Id                                                        \\\n",
      "                count   mean       std    min     25%    50%     75%    max   \n",
      "Species                                                                       \n",
      "Iris-setosa      50.0   25.5  14.57738    1.0   13.25   25.5   37.75   50.0   \n",
      "Iris-versicolor  50.0   75.5  14.57738   51.0   63.25   75.5   87.75  100.0   \n",
      "Iris-virginica   50.0  125.5  14.57738  101.0  113.25  125.5  137.75  150.0   \n",
      "\n",
      "                SepalLengthCm         ... PetalLengthCm      PetalWidthCm  \\\n",
      "                        count   mean  ...           75%  max        count   \n",
      "Species                               ...                                   \n",
      "Iris-setosa              50.0  5.006  ...         1.575  1.9         50.0   \n",
      "Iris-versicolor          50.0  5.936  ...         4.600  5.1         50.0   \n",
      "Iris-virginica           50.0  6.588  ...         5.875  6.9         50.0   \n",
      "\n",
      "                                                           \n",
      "                  mean       std  min  25%  50%  75%  max  \n",
      "Species                                                    \n",
      "Iris-setosa      0.244  0.107210  0.1  0.2  0.2  0.3  0.6  \n",
      "Iris-versicolor  1.326  0.197753  1.0  1.2  1.3  1.5  1.8  \n",
      "Iris-virginica   2.026  0.274650  1.4  1.8  2.0  2.3  2.5  \n",
      "\n",
      "[3 rows x 40 columns]\n"
     ]
    }
   ],
   "source": [
    "data = df.groupby('Species')\n",
    "stats = data.describe()\n",
    "print(stats)"
   ]
  },
  {
   "cell_type": "code",
   "execution_count": 10,
   "id": "dc9de6e2-f198-4ef9-a61c-d89e71037104",
   "metadata": {},
   "outputs": [
    {
     "name": "stdout",
     "output_type": "stream",
     "text": [
      "                          Id  SepalLengthCm  SepalWidthCm  PetalLengthCm  \\\n",
      "Species                                                                    \n",
      "Iris-setosa     0.25   13.25          4.800         3.125          1.400   \n",
      "                0.50   25.50          5.000         3.400          1.500   \n",
      "                0.75   37.75          5.200         3.675          1.575   \n",
      "Iris-versicolor 0.25   63.25          5.600         2.525          4.000   \n",
      "                0.50   75.50          5.900         2.800          4.350   \n",
      "                0.75   87.75          6.300         3.000          4.600   \n",
      "Iris-virginica  0.25  113.25          6.225         2.800          5.100   \n",
      "                0.50  125.50          6.500         3.000          5.550   \n",
      "                0.75  137.75          6.900         3.175          5.875   \n",
      "\n",
      "                      PetalWidthCm  \n",
      "Species                             \n",
      "Iris-setosa     0.25           0.2  \n",
      "                0.50           0.2  \n",
      "                0.75           0.3  \n",
      "Iris-versicolor 0.25           1.2  \n",
      "                0.50           1.3  \n",
      "                0.75           1.5  \n",
      "Iris-virginica  0.25           1.8  \n",
      "                0.50           2.0  \n",
      "                0.75           2.3  \n"
     ]
    }
   ],
   "source": [
    "\n",
    "quantiles = data.quantile([0.25, 0.5, 0.75])\n",
    "print(quantiles)\n"
   ]
  },
  {
   "cell_type": "code",
   "execution_count": 16,
   "id": "1c3552f8-c370-4c75-811c-8b2fd1acb572",
   "metadata": {},
   "outputs": [
    {
     "name": "stdout",
     "output_type": "stream",
     "text": [
      "\n",
      "Summary Statistics by Species for Sepal Width:\n",
      "                 count   mean       std  min    25%  50%    75%  max\n",
      "Species                                                             \n",
      "Iris-setosa       50.0  3.418  0.381024  2.3  3.125  3.4  3.675  4.4\n",
      "Iris-versicolor   50.0  2.770  0.313798  2.0  2.525  2.8  3.000  3.4\n",
      "Iris-virginica    50.0  2.974  0.322497  2.2  2.800  3.0  3.175  3.8\n"
     ]
    }
   ],
   "source": [
    "summary_stats_species = data['SepalWidthCm'].describe()\n",
    "\n",
    "print(\"\\nSummary Statistics by Species for Sepal Width:\")\n",
    "print(summary_stats_species)"
   ]
  },
  {
   "cell_type": "code",
   "execution_count": 11,
   "id": "99409148-bfc6-4bbc-86bd-2c6567e4ebb3",
   "metadata": {},
   "outputs": [
    {
     "name": "stdout",
     "output_type": "stream",
     "text": [
      "                    Id  SepalLengthCm  SepalWidthCm  PetalLengthCm  \\\n",
      "Species                                                              \n",
      "Iris-setosa       25.5            5.0           3.4           1.50   \n",
      "Iris-versicolor   75.5            5.9           2.8           4.35   \n",
      "Iris-virginica   125.5            6.5           3.0           5.55   \n",
      "\n",
      "                 PetalWidthCm  \n",
      "Species                        \n",
      "Iris-setosa               0.2  \n",
      "Iris-versicolor           1.3  \n",
      "Iris-virginica            2.0  \n"
     ]
    }
   ],
   "source": [
    "median = data.median()\n",
    "print(median)"
   ]
  },
  {
   "cell_type": "code",
   "execution_count": 15,
   "id": "ac3194d8-7ee9-45b7-a715-282b1109edc1",
   "metadata": {},
   "outputs": [
    {
     "name": "stdout",
     "output_type": "stream",
     "text": [
      "Species\n",
      "Iris-setosa        3.4\n",
      "Iris-versicolor    2.8\n",
      "Iris-virginica     3.0\n",
      "Name: SepalWidthCm, dtype: float64\n"
     ]
    }
   ],
   "source": [
    "#median for sepal width\n",
    "sep_mid = data['SepalWidthCm'].median()\n",
    "print(sep_mid)"
   ]
  },
  {
   "cell_type": "code",
   "execution_count": 17,
   "id": "97390a40-cc7c-4f19-9d85-18e4e8b4f384",
   "metadata": {},
   "outputs": [
    {
     "name": "stdout",
     "output_type": "stream",
     "text": [
      "Mode:  [3.]\n"
     ]
    }
   ],
   "source": [
    "mode_of_width = df['SepalWidthCm'].mode()\n",
    "print(\"Mode: \",mode_of_width.values)\n"
   ]
  },
  {
   "cell_type": "code",
   "execution_count": 18,
   "id": "55d6fc2c-8761-4f8d-aa26-c161b118b4bc",
   "metadata": {},
   "outputs": [
    {
     "data": {
      "text/html": [
       "<div>\n",
       "<style scoped>\n",
       "    .dataframe tbody tr th:only-of-type {\n",
       "        vertical-align: middle;\n",
       "    }\n",
       "\n",
       "    .dataframe tbody tr th {\n",
       "        vertical-align: top;\n",
       "    }\n",
       "\n",
       "    .dataframe thead th {\n",
       "        text-align: right;\n",
       "    }\n",
       "</style>\n",
       "<table border=\"1\" class=\"dataframe\">\n",
       "  <thead>\n",
       "    <tr style=\"text-align: right;\">\n",
       "      <th></th>\n",
       "      <th>Id</th>\n",
       "      <th>SepalLengthCm</th>\n",
       "      <th>SepalWidthCm</th>\n",
       "      <th>PetalLengthCm</th>\n",
       "      <th>PetalWidthCm</th>\n",
       "    </tr>\n",
       "    <tr>\n",
       "      <th>Species</th>\n",
       "      <th></th>\n",
       "      <th></th>\n",
       "      <th></th>\n",
       "      <th></th>\n",
       "      <th></th>\n",
       "    </tr>\n",
       "  </thead>\n",
       "  <tbody>\n",
       "    <tr>\n",
       "      <th>Iris-setosa</th>\n",
       "      <td>14.57738</td>\n",
       "      <td>0.352490</td>\n",
       "      <td>0.381024</td>\n",
       "      <td>0.173511</td>\n",
       "      <td>0.107210</td>\n",
       "    </tr>\n",
       "    <tr>\n",
       "      <th>Iris-versicolor</th>\n",
       "      <td>14.57738</td>\n",
       "      <td>0.516171</td>\n",
       "      <td>0.313798</td>\n",
       "      <td>0.469911</td>\n",
       "      <td>0.197753</td>\n",
       "    </tr>\n",
       "    <tr>\n",
       "      <th>Iris-virginica</th>\n",
       "      <td>14.57738</td>\n",
       "      <td>0.635880</td>\n",
       "      <td>0.322497</td>\n",
       "      <td>0.551895</td>\n",
       "      <td>0.274650</td>\n",
       "    </tr>\n",
       "  </tbody>\n",
       "</table>\n",
       "</div>"
      ],
      "text/plain": [
       "                       Id  SepalLengthCm  SepalWidthCm  PetalLengthCm  \\\n",
       "Species                                                                 \n",
       "Iris-setosa      14.57738       0.352490      0.381024       0.173511   \n",
       "Iris-versicolor  14.57738       0.516171      0.313798       0.469911   \n",
       "Iris-virginica   14.57738       0.635880      0.322497       0.551895   \n",
       "\n",
       "                 PetalWidthCm  \n",
       "Species                        \n",
       "Iris-setosa          0.107210  \n",
       "Iris-versicolor      0.197753  \n",
       "Iris-virginica       0.274650  "
      ]
     },
     "execution_count": 18,
     "metadata": {},
     "output_type": "execute_result"
    }
   ],
   "source": [
    "\n",
    "data.std()"
   ]
  },
  {
   "cell_type": "code",
   "execution_count": 19,
   "id": "31823c63-4900-4df0-8f0e-9b7bba055b95",
   "metadata": {},
   "outputs": [
    {
     "data": {
      "text/html": [
       "<div>\n",
       "<style scoped>\n",
       "    .dataframe tbody tr th:only-of-type {\n",
       "        vertical-align: middle;\n",
       "    }\n",
       "\n",
       "    .dataframe tbody tr th {\n",
       "        vertical-align: top;\n",
       "    }\n",
       "\n",
       "    .dataframe thead th {\n",
       "        text-align: right;\n",
       "    }\n",
       "</style>\n",
       "<table border=\"1\" class=\"dataframe\">\n",
       "  <thead>\n",
       "    <tr style=\"text-align: right;\">\n",
       "      <th></th>\n",
       "      <th>Id</th>\n",
       "      <th>SepalLengthCm</th>\n",
       "      <th>SepalWidthCm</th>\n",
       "      <th>PetalLengthCm</th>\n",
       "      <th>PetalWidthCm</th>\n",
       "    </tr>\n",
       "    <tr>\n",
       "      <th>Species</th>\n",
       "      <th></th>\n",
       "      <th></th>\n",
       "      <th></th>\n",
       "      <th></th>\n",
       "      <th></th>\n",
       "    </tr>\n",
       "  </thead>\n",
       "  <tbody>\n",
       "    <tr>\n",
       "      <th>Iris-setosa</th>\n",
       "      <td>25.5</td>\n",
       "      <td>5.006</td>\n",
       "      <td>3.418</td>\n",
       "      <td>1.464</td>\n",
       "      <td>0.244</td>\n",
       "    </tr>\n",
       "    <tr>\n",
       "      <th>Iris-versicolor</th>\n",
       "      <td>75.5</td>\n",
       "      <td>5.936</td>\n",
       "      <td>2.770</td>\n",
       "      <td>4.260</td>\n",
       "      <td>1.326</td>\n",
       "    </tr>\n",
       "    <tr>\n",
       "      <th>Iris-virginica</th>\n",
       "      <td>125.5</td>\n",
       "      <td>6.588</td>\n",
       "      <td>2.974</td>\n",
       "      <td>5.552</td>\n",
       "      <td>2.026</td>\n",
       "    </tr>\n",
       "  </tbody>\n",
       "</table>\n",
       "</div>"
      ],
      "text/plain": [
       "                    Id  SepalLengthCm  SepalWidthCm  PetalLengthCm  \\\n",
       "Species                                                              \n",
       "Iris-setosa       25.5          5.006         3.418          1.464   \n",
       "Iris-versicolor   75.5          5.936         2.770          4.260   \n",
       "Iris-virginica   125.5          6.588         2.974          5.552   \n",
       "\n",
       "                 PetalWidthCm  \n",
       "Species                        \n",
       "Iris-setosa             0.244  \n",
       "Iris-versicolor         1.326  \n",
       "Iris-virginica          2.026  "
      ]
     },
     "execution_count": 19,
     "metadata": {},
     "output_type": "execute_result"
    }
   ],
   "source": [
    "\n",
    "data.mean()"
   ]
  },
  {
   "cell_type": "code",
   "execution_count": null,
   "id": "f03cbc7c-1432-4101-bd40-f5de800d39ac",
   "metadata": {},
   "outputs": [],
   "source": []
  }
 ],
 "metadata": {
  "kernelspec": {
   "display_name": "Python 3 (ipykernel)",
   "language": "python",
   "name": "python3"
  },
  "language_info": {
   "codemirror_mode": {
    "name": "ipython",
    "version": 3
   },
   "file_extension": ".py",
   "mimetype": "text/x-python",
   "name": "python",
   "nbconvert_exporter": "python",
   "pygments_lexer": "ipython3",
   "version": "3.11.2"
  }
 },
 "nbformat": 4,
 "nbformat_minor": 5
}
